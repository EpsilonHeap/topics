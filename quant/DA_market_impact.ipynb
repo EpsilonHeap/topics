{
 "cells": [
  {
   "cell_type": "markdown",
   "metadata": {},
   "source": [
    "Dimensional Analysis (DA) is a powerful method of anaysis that uses units of measure associated with the quantities under consideration to derive fundamental characteristics of a system or process. While typically used in the sciences, DA can also be used in quantitative finance. [The Market Impact Puzzle](https://papers.ssrn.com/sol3/papers.cfm?abstract_id=3124502) by Kyle and Obizhaeva used DA to examine market impact at a fundamental level. This Jupyter notebook uses the python libary [Sympy](https://www.sympy.org/en/index.html) and a library for dimensional analysis - [Buckinghampy](https://github.com/ian-r-rose/buckinghampy) as described in the blog post on the subject by [Ian Rose](https://ian-r-rose.github.io/automated-dimensional-analysis.html) - to demonstrates DA in practice. The analysis is based on that in [Pohl et al](https://arxiv.org/abs/1702.05434) which further elaborated on Kyle and Obizhaeva."
   ]
  },
  {
   "cell_type": "markdown",
   "metadata": {},
   "source": [
    "Here is code from [Buckinghampy](https://github.com/ian-r-rose/buckinghampy)."
   ]
  },
  {
   "cell_type": "code",
   "execution_count": 1,
   "metadata": {},
   "outputs": [],
   "source": [
    "import sympy\n",
    "sympy.init_printing()"
   ]
  },
  {
   "cell_type": "code",
   "execution_count": 2,
   "metadata": {},
   "outputs": [],
   "source": [
    "from sympy.matrices import Matrix\n",
    "from sympy.solvers.solvers import solve_linear_system, solve_linear_system_LU\n",
    "\n",
    "from collections import OrderedDict\n",
    "from IPython.display import display, Math, Latex"
   ]
  },
  {
   "cell_type": "code",
   "execution_count": 3,
   "metadata": {},
   "outputs": [],
   "source": [
    "class Parameter(object):\n",
    "    def __init__(self,symbol,units):\n",
    "        self.symbol = symbol\n",
    "        self.units = units"
   ]
  },
  {
   "cell_type": "code",
   "execution_count": 4,
   "metadata": {},
   "outputs": [],
   "source": [
    "def construct_dimension_matrix( parameters ):\n",
    "    # Storing the units in a set means that we ignore\n",
    "    # duplicate units, and will just have a set of all\n",
    "    # the units which appear at least once in the problem:\n",
    "    units = set()\n",
    "    for p in parameters:\n",
    "        for key in p.units:\n",
    "            units.add(key)\n",
    "\n",
    "    # The downside of a set is that it is unordered. It is\n",
    "    # nice to have the units be alphabetized for easier \n",
    "    # inspection of the matrix, so we convert the units \n",
    "    # set to a list, then alphabetize that.\n",
    "    units =list(units)\n",
    "    units.sort()\n",
    "\n",
    "    #Construct a matrix of the appropriate shape\n",
    "    dimension_matrix = sympy.zeros( len(units), len(parameters) )\n",
    "    \n",
    "    for i,u in enumerate(units):\n",
    "        for j,p in enumerate(parameters):\n",
    "            # Determine the matrix entry for i,j\n",
    "            # If the unit appears in the parameter,\n",
    "            # then it is the power of that unit,\n",
    "            # otherwise it is zero\n",
    "            entry = p.units[u] if u in p.units else 0\n",
    "            dimension_matrix[i,j] = entry\n",
    "\n",
    "    return units, dimension_matrix"
   ]
  },
  {
   "cell_type": "code",
   "execution_count": 5,
   "metadata": {},
   "outputs": [],
   "source": [
    "def construct_ordered_dimension_matrix( parameters, ordered_units):\n",
    "    #Construct a matrix of the appropriate shape\n",
    "    dimension_matrix = sympy.zeros( len(ordered_units), len(parameters) )\n",
    "    \n",
    "    for i,u in enumerate(ordered_units):\n",
    "        for j,p in enumerate(parameters):\n",
    "            # Determine the matrix entry for i,j\n",
    "            # If the unit appears in the parameter,\n",
    "            # then it is the power of that unit,\n",
    "            # otherwise it is zero\n",
    "            entry = p.units[u] if u in p.units else 0\n",
    "            dimension_matrix[i,j] = entry\n",
    "\n",
    "    return ordered_units, dimension_matrix"
   ]
  },
  {
   "cell_type": "code",
   "execution_count": 6,
   "metadata": {},
   "outputs": [],
   "source": [
    "def parse_units(parameters, vector):\n",
    "    # Initialize two empty strings for the numerator and \n",
    "    # denominator of the nondimensional number\n",
    "    numerator_string = ''\n",
    "    denominator_string = ''\n",
    "\n",
    "    for p,n in zip(parameters, vector):\n",
    "        # No need to typeset the parameters if they do not \n",
    "        # appear in the nondimensional number\n",
    "        if n == 0:\n",
    "            continue\n",
    "        # If the exponent on the parameter is one,\n",
    "        # we do not need to write it.\n",
    "        if n == 1 or n == -1:\n",
    "            parsed_parameter = p.symbol\n",
    "        # If the exponent is a whole number, we do\n",
    "        # not need to represent it as a fraction.\n",
    "        elif n.q == 1 or n.q == -1:\n",
    "            parsed_parameter = p.symbol + \\\n",
    "                    '^{%i}'%(abs(n.p))\n",
    "        # Otherwise, represent it as a fraction\n",
    "        else:\n",
    "            parsed_parameter = p.symbol + \\\n",
    "                    '^{%i/%i}'%(abs(n.p), abs(n.q))\n",
    "\n",
    "        # Depending upon whether the exponent is positive or \n",
    "        # negative, put it in the numerator or the denominator\n",
    "        if n > 0:\n",
    "            numerator_string = ' '\\\n",
    "                .join([numerator_string, parsed_parameter])\n",
    "        elif n < 0:\n",
    "            denominator_string = ' '\\\n",
    "                .join([denominator_string, parsed_parameter])\n",
    "\n",
    "    # If the numerator is empty, make it a one\n",
    "    if numerator_string == '':\n",
    "        parsed_number = '\\\\frac{1}{'+denominator_string+'}'\n",
    "    # If the denominator is empty, there is no need for a fraction\n",
    "    elif denominator_string == '':\n",
    "        parsed_number = numerator_string\n",
    "    # Otherwise make it a fraction\n",
    "    else:\n",
    "        parsed_number = '\\\\frac{'+numerator_string+\\\n",
    "                        '}{'+denominator_string+'}'\n",
    "\n",
    "    # And we are done! We return a LaTeX string\n",
    "    return parsed_number\n",
    "    \n",
    "class NondimensionalNumber(object):\n",
    "    def __init__(self, parameters, nondimensional_vector):\n",
    "        self.parameters = parameters\n",
    "        self.vector = nondimensional_vector\n",
    "        self.string_representation = self._parse_nondimensional_number()\n",
    "        \n",
    "    def _parse_nondimensional_number(self):\n",
    "        return parse_units(self.parameters, self.vector)\n",
    "    \n",
    "    # Let IPython know how this may be typeset with LaTeX\n",
    "    def _repr_latex_(self):\n",
    "        return '$$'+self.string_representation+'$$'\n",
    "    # Return the string form of the nondimensional number\n",
    "    def __str__(self):\n",
    "        return self.string_representation\n",
    "\n",
    "# This is a bit of a hack: Here I am subclassing\n",
    "# the builtin Python list type and adding a\n",
    "# function for print_latex(). This allows\n",
    "# IPython to be able to render a list of \n",
    "# nondimensional numbers as well as a single one.\n",
    "class NondimensionalNumberList(list):\n",
    "    # Make a comma delimited list of the \n",
    "    # nondimensional numbers\n",
    "    def __str__(self):\n",
    "        string_representation = ''\n",
    "        for n in range(len(self)):\n",
    "            s = str(self.__getitem__(n))\n",
    "            string_representation += s\n",
    "            if n != len(self)-1:\n",
    "                string_representation += ', '\n",
    "        return string_representation\n",
    "    \n",
    "    #Add symbols for typesetting with LaTeX\n",
    "    def print_latex(self):\n",
    "        return '$$'+self.__str__()+'$$' "
   ]
  },
  {
   "cell_type": "code",
   "execution_count": 7,
   "metadata": {},
   "outputs": [],
   "source": [
    "# Register the print function with IPython\n",
    "_ = get_ipython().display_formatter.formatters['text/latex'].\\\n",
    "    for_type(NondimensionalNumberList, \\\n",
    "             NondimensionalNumberList.print_latex)"
   ]
  },
  {
   "cell_type": "code",
   "execution_count": 8,
   "metadata": {},
   "outputs": [],
   "source": [
    "def find_nondimensional_numbers( parameters ):\n",
    "    # First, create the dimension matrix\n",
    "    units, dimension_matrix = \\\n",
    "        construct_dimension_matrix(parameters)\n",
    "    # Second, find the nullspace of the dimension matrix\n",
    "    nullspace = dimension_matrix.nullspace()\n",
    "    # Third, convert the vectors in the \n",
    "    # nullspace to nondimensional numbers\n",
    "    nondimensional_numbers = NondimensionalNumberList(\\\n",
    "                [NondimensionalNumber(parameters, v) \\\n",
    "                 for v in nullspace])\n",
    "    # Finally, return the list of nondimensional numbers\n",
    "    return nondimensional_numbers"
   ]
  },
  {
   "cell_type": "markdown",
   "metadata": {},
   "source": [
    "Define some units to implement the analysis in [Pohl et al](https://arxiv.org/abs/1702.05434)."
   ]
  },
  {
   "cell_type": "code",
   "execution_count": 9,
   "metadata": {},
   "outputs": [],
   "source": [
    "# Q [shares] meta-order\n",
    "# P [money] price\n",
    "# V [shared/time] volume\n",
    "# \\\\sigma^2 [time^-1] variance\n",
    "order = Parameter('Q',{'s':1})\n",
    "price = Parameter('P',{'u':1,'s':-1})\n",
    "volume = Parameter('V',{'s':1,'t':-1})\n",
    "variance = Parameter(r'\\sigma^2',{'t':-1})"
   ]
  },
  {
   "cell_type": "markdown",
   "metadata": {},
   "source": [
    "Need to annotate but ... time."
   ]
  },
  {
   "cell_type": "code",
   "execution_count": 10,
   "metadata": {},
   "outputs": [],
   "source": [
    "p1 = [order,price,volume,variance]"
   ]
  },
  {
   "cell_type": "code",
   "execution_count": 11,
   "metadata": {},
   "outputs": [],
   "source": [
    "units, dimension_matrix = construct_dimension_matrix(p1)"
   ]
  },
  {
   "cell_type": "code",
   "execution_count": 12,
   "metadata": {},
   "outputs": [
    {
     "data": {
      "text/plain": [
       "['s', 't', 'u']"
      ]
     },
     "execution_count": 12,
     "metadata": {},
     "output_type": "execute_result"
    }
   ],
   "source": [
    "units"
   ]
  },
  {
   "cell_type": "code",
   "execution_count": 13,
   "metadata": {},
   "outputs": [
    {
     "data": {
      "image/png": "[encoded data removed]",
      "text/latex": [
       "$$\\left[\\begin{matrix}1 & -1 & 1 & 0\\\\0 & 0 & -1 & -1\\\\0 & 1 & 0 & 0\\end{matrix}\\right]$$"
      ],
      "text/plain": [
       "⎡1  -1  1   0 ⎤\n",
       "⎢             ⎥\n",
       "⎢0  0   -1  -1⎥\n",
       "⎢             ⎥\n",
       "⎣0  1   0   0 ⎦"
      ]
     },
     "execution_count": 13,
     "metadata": {},
     "output_type": "execute_result"
    }
   ],
   "source": [
    "dimension_matrix"
   ]
  },
  {
   "cell_type": "code",
   "execution_count": 14,
   "metadata": {},
   "outputs": [
    {
     "data": {
      "image/png": "[encoded data removed]",
      "text/latex": [
       "$$\\left [ \\left[\\begin{matrix}1\\\\0\\\\-1\\\\1\\end{matrix}\\right]\\right ]$$"
      ],
      "text/plain": [
       "⎡⎡1 ⎤⎤\n",
       "⎢⎢  ⎥⎥\n",
       "⎢⎢0 ⎥⎥\n",
       "⎢⎢  ⎥⎥\n",
       "⎢⎢-1⎥⎥\n",
       "⎢⎢  ⎥⎥\n",
       "⎣⎣1 ⎦⎦"
      ]
     },
     "execution_count": 14,
     "metadata": {},
     "output_type": "execute_result"
    }
   ],
   "source": [
    "nullspace = dimension_matrix.nullspace()\n",
    "nullspace"
   ]
  },
  {
   "cell_type": "code",
   "execution_count": 15,
   "metadata": {},
   "outputs": [
    {
     "data": {
      "text/latex": [
       "$$\\frac{ Q \\sigma^2}{ V}$$"
      ],
      "text/plain": [
       "[<__main__.NondimensionalNumber at 0x7fe03c5cca90>]"
      ]
     },
     "execution_count": 15,
     "metadata": {},
     "output_type": "execute_result"
    }
   ],
   "source": [
    "nomdim = find_nondimensional_numbers(p1)\n",
    "nomdim"
   ]
  },
  {
   "cell_type": "code",
   "execution_count": 16,
   "metadata": {},
   "outputs": [],
   "source": [
    "# C [money] cost\n",
    "cost = Parameter('C',{'u':1})\n",
    "p2 = [order,price,volume,variance,cost]"
   ]
  },
  {
   "cell_type": "code",
   "execution_count": 17,
   "metadata": {},
   "outputs": [],
   "source": [
    "u2, dm2 = construct_dimension_matrix(p2)"
   ]
  },
  {
   "cell_type": "code",
   "execution_count": 18,
   "metadata": {},
   "outputs": [
    {
     "data": {
      "text/plain": [
       "['s', 't', 'u']"
      ]
     },
     "execution_count": 18,
     "metadata": {},
     "output_type": "execute_result"
    }
   ],
   "source": [
    "u2"
   ]
  },
  {
   "cell_type": "code",
   "execution_count": 19,
   "metadata": {},
   "outputs": [
    {
     "data": {
      "image/png": "[encoded data removed]",
      "text/latex": [
       "$$\\left[\\begin{matrix}1 & -1 & 1 & 0 & 0\\\\0 & 0 & -1 & -1 & 0\\\\0 & 1 & 0 & 0 & 1\\end{matrix}\\right]$$"
      ],
      "text/plain": [
       "⎡1  -1  1   0   0⎤\n",
       "⎢                ⎥\n",
       "⎢0  0   -1  -1  0⎥\n",
       "⎢                ⎥\n",
       "⎣0  1   0   0   1⎦"
      ]
     },
     "execution_count": 19,
     "metadata": {},
     "output_type": "execute_result"
    }
   ],
   "source": [
    "dm2"
   ]
  },
  {
   "cell_type": "code",
   "execution_count": 20,
   "metadata": {},
   "outputs": [
    {
     "data": {
      "image/png": "[encoded data removed]",
      "text/latex": [
       "$$\\left [ \\left[\\begin{matrix}1\\\\0\\\\-1\\\\1\\\\0\\end{matrix}\\right], \\quad \\left[\\begin{matrix}-1\\\\-1\\\\0\\\\0\\\\1\\end{matrix}\\right]\\right ]$$"
      ],
      "text/plain": [
       "⎡⎡1 ⎤  ⎡-1⎤⎤\n",
       "⎢⎢  ⎥  ⎢  ⎥⎥\n",
       "⎢⎢0 ⎥  ⎢-1⎥⎥\n",
       "⎢⎢  ⎥  ⎢  ⎥⎥\n",
       "⎢⎢-1⎥, ⎢0 ⎥⎥\n",
       "⎢⎢  ⎥  ⎢  ⎥⎥\n",
       "⎢⎢1 ⎥  ⎢0 ⎥⎥\n",
       "⎢⎢  ⎥  ⎢  ⎥⎥\n",
       "⎣⎣0 ⎦  ⎣1 ⎦⎦"
      ]
     },
     "execution_count": 20,
     "metadata": {},
     "output_type": "execute_result"
    }
   ],
   "source": [
    "ns2 = dm2.nullspace()\n",
    "ns2"
   ]
  },
  {
   "cell_type": "code",
   "execution_count": 21,
   "metadata": {},
   "outputs": [
    {
     "data": {
      "text/latex": [
       "$$\\frac{ Q \\sigma^2}{ V}, \\frac{ C}{ Q P}$$"
      ],
      "text/plain": [
       "[<__main__.NondimensionalNumber at 0x7fe03c561320>,\n",
       " <__main__.NondimensionalNumber at 0x7fe03c561b00>]"
      ]
     },
     "execution_count": 21,
     "metadata": {},
     "output_type": "execute_result"
    }
   ],
   "source": [
    "nd2 = find_nondimensional_numbers(p2)\n",
    "nd2"
   ]
  },
  {
   "cell_type": "code",
   "execution_count": 22,
   "metadata": {},
   "outputs": [],
   "source": [
    "order = Parameter('Q',{'s':1})\n",
    "price = Parameter('P',{'u':1,'s':-1,'m':-1})\n",
    "volume = Parameter('V',{'s':1,'t':-1})\n",
    "variance = Parameter(r'(\\sigma^2)',{'t':-1,'m':2})"
   ]
  },
  {
   "cell_type": "code",
   "execution_count": 23,
   "metadata": {},
   "outputs": [],
   "source": [
    "p3 = [order,price,volume,variance]"
   ]
  },
  {
   "cell_type": "code",
   "execution_count": 24,
   "metadata": {},
   "outputs": [],
   "source": [
    "u3,dm3 = construct_dimension_matrix(p3)"
   ]
  },
  {
   "cell_type": "code",
   "execution_count": 25,
   "metadata": {},
   "outputs": [
    {
     "data": {
      "text/plain": [
       "['m', 's', 't', 'u']"
      ]
     },
     "execution_count": 25,
     "metadata": {},
     "output_type": "execute_result"
    }
   ],
   "source": [
    "u3"
   ]
  },
  {
   "cell_type": "code",
   "execution_count": 26,
   "metadata": {},
   "outputs": [
    {
     "data": {
      "image/png": "[encoded data removed]",
      "text/latex": [
       "$$\\left[\\begin{matrix}0 & -1 & 0 & 2\\\\1 & -1 & 1 & 0\\\\0 & 0 & -1 & -1\\\\0 & 1 & 0 & 0\\end{matrix}\\right]$$"
      ],
      "text/plain": [
       "⎡0  -1  0   2 ⎤\n",
       "⎢             ⎥\n",
       "⎢1  -1  1   0 ⎥\n",
       "⎢             ⎥\n",
       "⎢0  0   -1  -1⎥\n",
       "⎢             ⎥\n",
       "⎣0  1   0   0 ⎦"
      ]
     },
     "execution_count": 26,
     "metadata": {},
     "output_type": "execute_result"
    }
   ],
   "source": [
    "dm3"
   ]
  },
  {
   "cell_type": "code",
   "execution_count": 27,
   "metadata": {},
   "outputs": [],
   "source": [
    "b = Matrix(4,1,[1,0,0,0])"
   ]
  },
  {
   "cell_type": "code",
   "execution_count": 28,
   "metadata": {},
   "outputs": [
    {
     "data": {
      "image/png": "[encoded data removed]",
      "text/latex": [
       "$$\\left[\\begin{matrix}\\frac{1}{2}\\\\0\\\\- \\frac{1}{2}\\\\\\frac{1}{2}\\end{matrix}\\right]$$"
      ],
      "text/plain": [
       "⎡1/2 ⎤\n",
       "⎢    ⎥\n",
       "⎢ 0  ⎥\n",
       "⎢    ⎥\n",
       "⎢-1/2⎥\n",
       "⎢    ⎥\n",
       "⎣1/2 ⎦"
      ]
     },
     "execution_count": 28,
     "metadata": {},
     "output_type": "execute_result"
    }
   ],
   "source": [
    "dm3.LUsolve(b)"
   ]
  },
  {
   "cell_type": "code",
   "execution_count": 29,
   "metadata": {},
   "outputs": [
    {
     "data": {
      "image/png": "[encoded data removed]",
      "text/latex": [
       "$$$$"
      ],
      "text/plain": [
       "[]"
      ]
     },
     "execution_count": 29,
     "metadata": {},
     "output_type": "execute_result"
    }
   ],
   "source": [
    "nd3 = find_nondimensional_numbers(p3)\n",
    "nd3"
   ]
  },
  {
   "cell_type": "code",
   "execution_count": 30,
   "metadata": {},
   "outputs": [],
   "source": [
    "cost = Parameter('C',{'u':1})\n",
    "p4 = [order,price,volume,variance,cost]"
   ]
  },
  {
   "cell_type": "code",
   "execution_count": 31,
   "metadata": {},
   "outputs": [],
   "source": [
    "u4,dm4 =  construct_ordered_dimension_matrix(p4,['s','u','t','m'])"
   ]
  },
  {
   "cell_type": "code",
   "execution_count": 32,
   "metadata": {},
   "outputs": [
    {
     "data": {
      "text/plain": [
       "['s', 'u', 't', 'm']"
      ]
     },
     "execution_count": 32,
     "metadata": {},
     "output_type": "execute_result"
    }
   ],
   "source": [
    "u4"
   ]
  },
  {
   "cell_type": "code",
   "execution_count": 33,
   "metadata": {},
   "outputs": [
    {
     "data": {
      "image/png": "[encoded data removed]",
      "text/latex": [
       "$$\\left[\\begin{matrix}1 & -1 & 1 & 0 & 0\\\\0 & 1 & 0 & 0 & 1\\\\0 & 0 & -1 & -1 & 0\\\\0 & -1 & 0 & 2 & 0\\end{matrix}\\right]$$"
      ],
      "text/plain": [
       "⎡1  -1  1   0   0⎤\n",
       "⎢                ⎥\n",
       "⎢0  1   0   0   1⎥\n",
       "⎢                ⎥\n",
       "⎢0  0   -1  -1  0⎥\n",
       "⎢                ⎥\n",
       "⎣0  -1  0   2   0⎦"
      ]
     },
     "execution_count": 33,
     "metadata": {},
     "output_type": "execute_result"
    }
   ],
   "source": [
    "dm4"
   ]
  },
  {
   "cell_type": "code",
   "execution_count": 34,
   "metadata": {},
   "outputs": [
    {
     "data": {
      "image/png": "[encoded data removed]",
      "text/latex": [
       "$$\\left [ \\left[\\begin{matrix}- \\frac{3}{2}\\\\-1\\\\\\frac{1}{2}\\\\- \\frac{1}{2}\\\\1\\end{matrix}\\right]\\right ]$$"
      ],
      "text/plain": [
       "⎡⎡-3/2⎤⎤\n",
       "⎢⎢    ⎥⎥\n",
       "⎢⎢ -1 ⎥⎥\n",
       "⎢⎢    ⎥⎥\n",
       "⎢⎢1/2 ⎥⎥\n",
       "⎢⎢    ⎥⎥\n",
       "⎢⎢-1/2⎥⎥\n",
       "⎢⎢    ⎥⎥\n",
       "⎣⎣ 1  ⎦⎦"
      ]
     },
     "execution_count": 34,
     "metadata": {},
     "output_type": "execute_result"
    }
   ],
   "source": [
    "ns4 = dm4.nullspace()\n",
    "ns4"
   ]
  },
  {
   "cell_type": "code",
   "execution_count": 35,
   "metadata": {},
   "outputs": [
    {
     "data": {
      "image/png": "[encoded data removed]",
      "text/latex": [
       "$$\\left [ \\left[\\begin{matrix}1\\\\0\\\\0\\\\0\\end{matrix}\\right], \\quad \\left[\\begin{matrix}-1\\\\1\\\\0\\\\-1\\end{matrix}\\right], \\quad \\left[\\begin{matrix}1\\\\0\\\\-1\\\\0\\end{matrix}\\right], \\quad \\left[\\begin{matrix}0\\\\0\\\\-1\\\\2\\end{matrix}\\right]\\right ]$$"
      ],
      "text/plain": [
       "⎡⎡1⎤  ⎡-1⎤  ⎡1 ⎤  ⎡0 ⎤⎤\n",
       "⎢⎢ ⎥  ⎢  ⎥  ⎢  ⎥  ⎢  ⎥⎥\n",
       "⎢⎢0⎥  ⎢1 ⎥  ⎢0 ⎥  ⎢0 ⎥⎥\n",
       "⎢⎢ ⎥, ⎢  ⎥, ⎢  ⎥, ⎢  ⎥⎥\n",
       "⎢⎢0⎥  ⎢0 ⎥  ⎢-1⎥  ⎢-1⎥⎥\n",
       "⎢⎢ ⎥  ⎢  ⎥  ⎢  ⎥  ⎢  ⎥⎥\n",
       "⎣⎣0⎦  ⎣-1⎦  ⎣0 ⎦  ⎣2 ⎦⎦"
      ]
     },
     "execution_count": 35,
     "metadata": {},
     "output_type": "execute_result"
    }
   ],
   "source": [
    "dm4.columnspace()"
   ]
  },
  {
   "cell_type": "code",
   "execution_count": 36,
   "metadata": {},
   "outputs": [
    {
     "data": {
      "text/latex": [
       "$$\\frac{ V^{1/2} C}{ Q^{3/2} P (\\sigma^2)^{1/2}}$$"
      ],
      "text/plain": [
       "[<__main__.NondimensionalNumber at 0x7fe03c4fde80>]"
      ]
     },
     "execution_count": 36,
     "metadata": {},
     "output_type": "execute_result"
    }
   ],
   "source": [
    "nd4 = find_nondimensional_numbers(p4)\n",
    "nd4"
   ]
  },
  {
   "cell_type": "code",
   "execution_count": 37,
   "metadata": {},
   "outputs": [],
   "source": [
    "from sympy import linsolve, symbols"
   ]
  },
  {
   "cell_type": "code",
   "execution_count": 38,
   "metadata": {},
   "outputs": [
    {
     "data": {
      "image/png": "[encoded data removed]",
      "text/latex": [
       "$$\\left[\\begin{matrix}1 & -1 & 1 & 0 & 0\\\\0 & 1 & 0 & 0 & 1\\\\0 & 0 & -1 & -1 & 0\\\\0 & -1 & 0 & 2 & 0\\end{matrix}\\right]$$"
      ],
      "text/plain": [
       "⎡1  -1  1   0   0⎤\n",
       "⎢                ⎥\n",
       "⎢0  1   0   0   1⎥\n",
       "⎢                ⎥\n",
       "⎢0  0   -1  -1  0⎥\n",
       "⎢                ⎥\n",
       "⎣0  -1  0   2   0⎦"
      ]
     },
     "execution_count": 38,
     "metadata": {},
     "output_type": "execute_result"
    }
   ],
   "source": [
    "dm4"
   ]
  },
  {
   "cell_type": "code",
   "execution_count": 39,
   "metadata": {},
   "outputs": [
    {
     "data": {
      "image/png": "[encoded data removed]",
      "text/latex": [
       "$$\\left[\\begin{matrix}0\\\\0\\\\0\\\\1\\end{matrix}\\right]$$"
      ],
      "text/plain": [
       "⎡0⎤\n",
       "⎢ ⎥\n",
       "⎢0⎥\n",
       "⎢ ⎥\n",
       "⎢0⎥\n",
       "⎢ ⎥\n",
       "⎣1⎦"
      ]
     },
     "execution_count": 39,
     "metadata": {},
     "output_type": "execute_result"
    }
   ],
   "source": [
    "b = Matrix(4,1,[0,0,0,1])\n",
    "b"
   ]
  },
  {
   "cell_type": "code",
   "execution_count": 40,
   "metadata": {},
   "outputs": [
    {
     "data": {
      "image/png": "[encoded data removed]",
      "text/latex": [
       "$$\\left[\\begin{matrix}1 & -1 & 1 & 0 & 0 & 0\\\\0 & 1 & 0 & 0 & 1 & 0\\\\0 & 0 & -1 & -1 & 0 & 0\\\\0 & -1 & 0 & 2 & 0 & 1\\end{matrix}\\right]$$"
      ],
      "text/plain": [
       "⎡1  -1  1   0   0  0⎤\n",
       "⎢                   ⎥\n",
       "⎢0  1   0   0   1  0⎥\n",
       "⎢                   ⎥\n",
       "⎢0  0   -1  -1  0  0⎥\n",
       "⎢                   ⎥\n",
       "⎣0  -1  0   2   0  1⎦"
      ]
     },
     "execution_count": 40,
     "metadata": {},
     "output_type": "execute_result"
    }
   ],
   "source": [
    "t4 = dm4.col_insert(dm4.shape[1],b)\n",
    "t4"
   ]
  },
  {
   "cell_type": "code",
   "execution_count": 41,
   "metadata": {},
   "outputs": [
    {
     "data": {
      "image/png": "[encoded data removed]",
      "text/latex": [
       "$$\\left [ \\left[\\begin{matrix}- \\frac{3}{2}\\\\-1\\\\\\frac{1}{2}\\\\- \\frac{1}{2}\\\\1\\\\0\\end{matrix}\\right], \\quad \\left[\\begin{matrix}- \\frac{1}{2}\\\\0\\\\\\frac{1}{2}\\\\- \\frac{1}{2}\\\\0\\\\1\\end{matrix}\\right]\\right ]$$"
      ],
      "text/plain": [
       "⎡⎡-3/2⎤  ⎡-1/2⎤⎤\n",
       "⎢⎢    ⎥  ⎢    ⎥⎥\n",
       "⎢⎢ -1 ⎥  ⎢ 0  ⎥⎥\n",
       "⎢⎢    ⎥  ⎢    ⎥⎥\n",
       "⎢⎢1/2 ⎥  ⎢1/2 ⎥⎥\n",
       "⎢⎢    ⎥, ⎢    ⎥⎥\n",
       "⎢⎢-1/2⎥  ⎢-1/2⎥⎥\n",
       "⎢⎢    ⎥  ⎢    ⎥⎥\n",
       "⎢⎢ 1  ⎥  ⎢ 0  ⎥⎥\n",
       "⎢⎢    ⎥  ⎢    ⎥⎥\n",
       "⎣⎣ 0  ⎦  ⎣ 1  ⎦⎦"
      ]
     },
     "execution_count": 41,
     "metadata": {},
     "output_type": "execute_result"
    }
   ],
   "source": [
    "t4.nullspace()"
   ]
  },
  {
   "cell_type": "code",
   "execution_count": 42,
   "metadata": {},
   "outputs": [
    {
     "data": {
      "image/png": "[encoded data removed]",
      "text/latex": [
       "$$\\left [ \\left[\\begin{matrix}1\\\\0\\\\0\\\\0\\end{matrix}\\right], \\quad \\left[\\begin{matrix}-1\\\\1\\\\0\\\\-1\\end{matrix}\\right], \\quad \\left[\\begin{matrix}1\\\\0\\\\-1\\\\0\\end{matrix}\\right], \\quad \\left[\\begin{matrix}0\\\\0\\\\-1\\\\2\\end{matrix}\\right]\\right ]$$"
      ],
      "text/plain": [
       "⎡⎡1⎤  ⎡-1⎤  ⎡1 ⎤  ⎡0 ⎤⎤\n",
       "⎢⎢ ⎥  ⎢  ⎥  ⎢  ⎥  ⎢  ⎥⎥\n",
       "⎢⎢0⎥  ⎢1 ⎥  ⎢0 ⎥  ⎢0 ⎥⎥\n",
       "⎢⎢ ⎥, ⎢  ⎥, ⎢  ⎥, ⎢  ⎥⎥\n",
       "⎢⎢0⎥  ⎢0 ⎥  ⎢-1⎥  ⎢-1⎥⎥\n",
       "⎢⎢ ⎥  ⎢  ⎥  ⎢  ⎥  ⎢  ⎥⎥\n",
       "⎣⎣0⎦  ⎣-1⎦  ⎣0 ⎦  ⎣2 ⎦⎦"
      ]
     },
     "execution_count": 42,
     "metadata": {},
     "output_type": "execute_result"
    }
   ],
   "source": [
    "t4.columnspace()"
   ]
  },
  {
   "cell_type": "code",
   "execution_count": 43,
   "metadata": {},
   "outputs": [
    {
     "data": {
      "image/png": "[encoded data removed]",
      "text/latex": [
       "$$\\left\\{\\left ( - \\frac{3 c}{2} + \\frac{1}{2}, \\quad - c, \\quad \\frac{c}{2} - \\frac{1}{2}, \\quad - \\frac{c}{2} + \\frac{1}{2}, \\quad c\\right )\\right\\}$$"
      ],
      "text/plain": [
       "⎧⎛  3⋅c   1      c   1    c   1   ⎞⎫\n",
       "⎨⎜- ─── + ─, -c, ─ - ─, - ─ + ─, c⎟⎬\n",
       "⎩⎝   2    2      2   2    2   2   ⎠⎭"
      ]
     },
     "execution_count": 43,
     "metadata": {},
     "output_type": "execute_result"
    }
   ],
   "source": [
    "ts4 = linsolve(t4,symbols('q p v s2 c g'))\n",
    "ts4"
   ]
  },
  {
   "cell_type": "code",
   "execution_count": 44,
   "metadata": {},
   "outputs": [
    {
     "data": {
      "image/png": "[encoded data removed]",
      "text/latex": [
       "$$\\left[\\begin{matrix}1\\\\\\frac{2}{3}\\\\- \\frac{1}{3}\\\\\\frac{1}{3}\\\\- \\frac{2}{3}\\\\0\\end{matrix}\\right]$$"
      ],
      "text/plain": [
       "⎡ 1  ⎤\n",
       "⎢    ⎥\n",
       "⎢2/3 ⎥\n",
       "⎢    ⎥\n",
       "⎢-1/3⎥\n",
       "⎢    ⎥\n",
       "⎢1/3 ⎥\n",
       "⎢    ⎥\n",
       "⎢-2/3⎥\n",
       "⎢    ⎥\n",
       "⎣ 0  ⎦"
      ]
     },
     "execution_count": 44,
     "metadata": {},
     "output_type": "execute_result"
    }
   ],
   "source": [
    "t4.nullspace()[0]*-2/3"
   ]
  },
  {
   "cell_type": "code",
   "execution_count": 45,
   "metadata": {},
   "outputs": [
    {
     "data": {
      "image/png": "[encoded data removed]",
      "text/latex": [
       "$$\\left[\\begin{matrix}- \\frac{1}{2}\\\\0\\\\\\frac{1}{2}\\\\- \\frac{1}{2}\\\\0\\\\1\\end{matrix}\\right]$$"
      ],
      "text/plain": [
       "⎡-1/2⎤\n",
       "⎢    ⎥\n",
       "⎢ 0  ⎥\n",
       "⎢    ⎥\n",
       "⎢1/2 ⎥\n",
       "⎢    ⎥\n",
       "⎢-1/2⎥\n",
       "⎢    ⎥\n",
       "⎢ 0  ⎥\n",
       "⎢    ⎥\n",
       "⎣ 1  ⎦"
      ]
     },
     "execution_count": 45,
     "metadata": {},
     "output_type": "execute_result"
    }
   ],
   "source": [
    "t4.nullspace()[1]"
   ]
  },
  {
   "cell_type": "code",
   "execution_count": 46,
   "metadata": {},
   "outputs": [
    {
     "data": {
      "image/png": "[encoded data removed]",
      "text/latex": [
       "$$\\left[\\begin{matrix}0\\\\\\frac{1}{3}\\\\\\frac{1}{3}\\\\- \\frac{1}{3}\\\\- \\frac{1}{3}\\\\1\\end{matrix}\\right]$$"
      ],
      "text/plain": [
       "⎡ 0  ⎤\n",
       "⎢    ⎥\n",
       "⎢1/3 ⎥\n",
       "⎢    ⎥\n",
       "⎢1/3 ⎥\n",
       "⎢    ⎥\n",
       "⎢-1/3⎥\n",
       "⎢    ⎥\n",
       "⎢-1/3⎥\n",
       "⎢    ⎥\n",
       "⎣ 1  ⎦"
      ]
     },
     "execution_count": 46,
     "metadata": {},
     "output_type": "execute_result"
    }
   ],
   "source": [
    "(t4.nullspace()[0]*-1/3)+t4.nullspace()[1]"
   ]
  },
  {
   "cell_type": "code",
   "execution_count": 47,
   "metadata": {},
   "outputs": [
    {
     "data": {
      "image/png": "[encoded data removed]",
      "text/latex": [
       "$$\\left ( -1, \\quad 1\\right )$$"
      ],
      "text/plain": [
       "(-1, 1)"
      ]
     },
     "execution_count": 47,
     "metadata": {},
     "output_type": "execute_result"
    }
   ],
   "source": [
    "sv = t4.nullspace()\n",
    "sv[1][0].p, sv[1][1].q"
   ]
  },
  {
   "cell_type": "code",
   "execution_count": 48,
   "metadata": {},
   "outputs": [
    {
     "data": {
      "text/latex": [
       "$$\\frac{ V^{1/2} C}{ Q^{3/2} P (\\sigma^2)^{1/2}}, \\frac{ V^{1/2} G}{ Q^{1/2} (\\sigma^2)^{1/2}}$$"
      ],
      "text/plain": [
       "[<__main__.NondimensionalNumber at 0x7fe03c495d68>,\n",
       " <__main__.NondimensionalNumber at 0x7fe03c495e80>]"
      ]
     },
     "execution_count": 48,
     "metadata": {},
     "output_type": "execute_result"
    }
   ],
   "source": [
    "impact = Parameter('G',{'m':1})\n",
    "p5 = [order,price,volume,variance,cost,impact]\n",
    "nd5 = find_nondimensional_numbers(p5)\n",
    "nd5"
   ]
  },
  {
   "cell_type": "code",
   "execution_count": 49,
   "metadata": {},
   "outputs": [
    {
     "data": {
      "text/latex": [
       "$$ \\frac{ V^{1/2}}{ Q^{1/2} (\\sigma^2)^{1/2}} $$"
      ],
      "text/plain": [
       "<IPython.core.display.Latex object>"
      ]
     },
     "execution_count": 49,
     "metadata": {},
     "output_type": "execute_result"
    }
   ],
   "source": [
    "Latex('$$ {0} $$'.format(parse_units(p5[:5],sv[1])))"
   ]
  },
  {
   "cell_type": "code",
   "execution_count": 50,
   "metadata": {},
   "outputs": [
    {
     "data": {
      "text/latex": [
       "$$ \\frac{ P^{1/3} V^{1/3}}{ (\\sigma^2)^{1/3} C^{1/3}} $$"
      ],
      "text/plain": [
       "<IPython.core.display.Latex object>"
      ]
     },
     "execution_count": 50,
     "metadata": {},
     "output_type": "execute_result"
    }
   ],
   "source": [
    "Latex('$$ {0} $$'.format(parse_units(p5[:5],(sv[0]*-1/3)+sv[1])))"
   ]
  },
  {
   "cell_type": "code",
   "execution_count": 51,
   "metadata": {},
   "outputs": [
    {
     "data": {
      "text/latex": [
       "$$ \\frac{ Q P}{ C} $$"
      ],
      "text/plain": [
       "<IPython.core.display.Latex object>"
      ]
     },
     "execution_count": 51,
     "metadata": {},
     "output_type": "execute_result"
    }
   ],
   "source": [
    "Latex('$$ {0} $$'.format(parse_units(p5[:5],(sv[0]*-1)+sv[1])))"
   ]
  },
  {
   "cell_type": "code",
   "execution_count": 52,
   "metadata": {},
   "outputs": [
    {
     "data": {
      "text/latex": [
       "$$ \\frac{ V C}{ Q^{2} P (\\sigma^2)} $$"
      ],
      "text/plain": [
       "<IPython.core.display.Latex object>"
      ]
     },
     "execution_count": 52,
     "metadata": {},
     "output_type": "execute_result"
    }
   ],
   "source": [
    "Latex('$$ {0} $$'.format(parse_units(p5[:5],(sv[0])+sv[1])))"
   ]
  },
  {
   "cell_type": "code",
   "execution_count": null,
   "metadata": {
    "collapsed": true
   },
   "outputs": [],
   "source": []
  }
 ],
 "metadata": {
  "anaconda-cloud": {},
  "kernelspec": {
   "display_name": "Python [conda env:pstat]",
   "language": "python",
   "name": "conda-env-pstat-py"
  },
  "language_info": {
   "codemirror_mode": {
    "name": "ipython",
    "version": 3
   },
   "file_extension": ".py",
   "mimetype": "text/x-python",
   "name": "python",
   "nbconvert_exporter": "python",
   "pygments_lexer": "ipython3",
   "version": "3.6.8"
  }
 },
 "nbformat": 4,
 "nbformat_minor": 1
}
